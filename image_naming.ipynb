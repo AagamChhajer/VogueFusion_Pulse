{
 "cells": [
  {
   "cell_type": "code",
   "execution_count": 1,
   "metadata": {},
   "outputs": [
    {
     "name": "stdout",
     "output_type": "stream",
     "text": [
      "Renamed ComfyUI_00046_.png to image_1.png\n",
      "Renamed ComfyUI_00047_.png to image_2.png\n",
      "Renamed ComfyUI_00048_.png to image_3.png\n",
      "Renamed ComfyUI_00049_.png to image_4.png\n",
      "Renamed ComfyUI_00050_.png to image_5.png\n",
      "Renamed ComfyUI_00051_.png to image_6.png\n",
      "Renamed ComfyUI_00052_.png to image_7.png\n",
      "Renamed ComfyUI_00053_.png to image_8.png\n",
      "Renamed ComfyUI_00054_.png to image_9.png\n"
     ]
    }
   ],
   "source": [
    "import os\n",
    "\n",
    "def rename_images(folder_path):\n",
    "    # List all files in the folder\n",
    "    files = os.listdir(folder_path)\n",
    "    \n",
    "    # Filter only .jpg files\n",
    "    images = [f for f in files if f.lower().endswith('.png')]\n",
    "    \n",
    "    # Sort images by name (optional)\n",
    "    images.sort()\n",
    "\n",
    "    # Rename the images with ordered names\n",
    "    for index, image in enumerate(images):\n",
    "        # Generate the new file name\n",
    "        new_name = f\"image_{index+1}.png\"\n",
    "        \n",
    "        # Get the full path of the current image and the new name\n",
    "        old_path = os.path.join(folder_path, image)\n",
    "        new_path = os.path.join(folder_path, new_name)\n",
    "        \n",
    "        # Rename the image\n",
    "        os.rename(old_path, new_path)\n",
    "        print(f\"Renamed {image} to {new_name}\")\n",
    "\n",
    "# Usage example:\n",
    "folder_path = \"./output\"  # Replace with the actual folder path\n",
    "rename_images(folder_path)\n"
   ]
  },
  {
   "cell_type": "code",
   "execution_count": 2,
   "metadata": {},
   "outputs": [
    {
     "name": "stdout",
     "output_type": "stream",
     "text": [
      "Generated image_1.txt in ./generated_dataset/output\\labels\n",
      "Generated image_2.txt in ./generated_dataset/output\\labels\n",
      "Generated image_3.txt in ./generated_dataset/output\\labels\n",
      "Generated image_4.txt in ./generated_dataset/output\\labels\n",
      "Generated image_5.txt in ./generated_dataset/output\\labels\n",
      "Generated image_6.txt in ./generated_dataset/output\\labels\n",
      "Generated image_7.txt in ./generated_dataset/output\\labels\n",
      "Generated image_8.txt in ./generated_dataset/output\\labels\n",
      "Generated image_9.txt in ./generated_dataset/output\\labels\n"
     ]
    }
   ],
   "source": [
    "import os\n",
    "\n",
    "def generate_text_files_for_images(folder_path):\n",
    "    # Create a folder for labels if it doesn't exist\n",
    "    labels_folder = os.path.join(folder_path, 'labels')\n",
    "    if not os.path.exists(labels_folder):\n",
    "        os.makedirs(labels_folder)\n",
    "\n",
    "    # List all files in the folder\n",
    "    files = os.listdir(folder_path)\n",
    "    \n",
    "    # Filter only .jpg files\n",
    "    images = [f for f in files if f.lower().endswith('.png')]\n",
    "    \n",
    "    # Sort images by name (optional)\n",
    "    images.sort()\n",
    "\n",
    "    # Generate corresponding text files for each image in the labels folder\n",
    "    for index, image in enumerate(images):\n",
    "        # Generate the new text file name based on the image name\n",
    "        txt_name = f\"image_{index+1}.txt\"\n",
    "        \n",
    "        # Get the full path for the .txt file in the labels folder\n",
    "        txt_path = os.path.join(labels_folder, txt_name)\n",
    "        \n",
    "        # Create a .txt file (this example creates empty files, you can add content as needed)\n",
    "        with open(txt_path, 'w') as f:\n",
    "            f.write(f\"This is the text file for {image}.\")  # Example content; modify as needed\n",
    "        \n",
    "        print(f\"Generated {txt_name} in {labels_folder}\")\n",
    "\n",
    "# Usage example:\n",
    "folder_path = \"./generated_dataset/output\"  # Replace with the actual folder path\n",
    "generate_text_files_for_images(folder_path)\n"
   ]
  },
  {
   "cell_type": "code",
   "execution_count": null,
   "metadata": {},
   "outputs": [],
   "source": []
  }
 ],
 "metadata": {
  "kernelspec": {
   "display_name": "Python 3",
   "language": "python",
   "name": "python3"
  },
  "language_info": {
   "codemirror_mode": {
    "name": "ipython",
    "version": 3
   },
   "file_extension": ".py",
   "mimetype": "text/x-python",
   "name": "python",
   "nbconvert_exporter": "python",
   "pygments_lexer": "ipython3",
   "version": "3.11.2"
  }
 },
 "nbformat": 4,
 "nbformat_minor": 2
}
